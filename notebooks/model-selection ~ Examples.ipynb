{
 "cells": [
  {
   "cell_type": "code",
   "execution_count": 1,
   "metadata": {},
   "outputs": [],
   "source": [
    "import model_selection as ms "
   ]
  },
  {
   "cell_type": "markdown",
   "metadata": {},
   "source": [
    "# PREREQUISITES"
   ]
  },
  {
   "cell_type": "markdown",
   "metadata": {},
   "source": [
    "In the examples shown in this document, the air pollution datasets of EEA will be used. For this reason, the [EEA-datasets-handler](https://github.com/EnricoPittini/EEA-datasets-handler) library will be used.\n",
    "\n",
    "In particular,the PM10 mean concentrations in Italy are considered, with respect to 2020."
   ]
  },
  {
   "cell_type": "code",
   "execution_count": 2,
   "metadata": {},
   "outputs": [],
   "source": [
    "import EEA_datasets_handler as eea"
   ]
  },
  {
   "cell_type": "code",
   "execution_count": null,
   "metadata": {},
   "outputs": [],
   "source": [
    "# Download the datasets \n",
    "# IT'S NECESSARY ONLY IF THEY HAVEN'T BEEN DOWNLOADED YET\n",
    "dest_path = \"C:\\\\Datasets\"\n",
    "countries_cities_dict = {\"IT\": \"all\"} \n",
    "pollutants = [\"PM10\"] \n",
    "years = [2020]\n",
    "eea.download_datasets(dest_path, countries_cities_dict, pollutants, years)"
   ]
  },
  {
   "cell_type": "code",
   "execution_count": 3,
   "metadata": {
    "scrolled": true
   },
   "outputs": [
    {
     "name": "stdout",
     "output_type": "stream",
     "text": [
      "<class 'pandas.core.frame.DataFrame'>\n",
      "RangeIndex: 157640 entries, 0 to 157639\n",
      "Data columns (total 17 columns):\n",
      " #   Column                    Non-Null Count   Dtype  \n",
      "---  ------                    --------------   -----  \n",
      " 0   Countrycode               157640 non-null  object \n",
      " 1   Namespace                 157640 non-null  object \n",
      " 2   AirQualityNetwork         157640 non-null  object \n",
      " 3   AirQualityStation         157640 non-null  object \n",
      " 4   AirQualityStationEoICode  157640 non-null  object \n",
      " 5   SamplingPoint             157640 non-null  object \n",
      " 6   SamplingProcess           157640 non-null  object \n",
      " 7   Sample                    157565 non-null  object \n",
      " 8   AirPollutant              157640 non-null  object \n",
      " 9   AirPollutantCode          157640 non-null  object \n",
      " 10  AveragingTime             157640 non-null  object \n",
      " 11  Concentration             132617 non-null  float64\n",
      " 12  UnitOfMeasurement         157640 non-null  object \n",
      " 13  DatetimeBegin             157640 non-null  object \n",
      " 14  DatetimeEnd               157640 non-null  object \n",
      " 15  Validity                  157640 non-null  int64  \n",
      " 16  Verification              157640 non-null  int64  \n",
      "dtypes: float64(1), int64(2), object(14)\n",
      "memory usage: 20.4+ MB\n"
     ]
    },
    {
     "data": {
      "text/html": [
       "<div>\n",
       "<style scoped>\n",
       "    .dataframe tbody tr th:only-of-type {\n",
       "        vertical-align: middle;\n",
       "    }\n",
       "\n",
       "    .dataframe tbody tr th {\n",
       "        vertical-align: top;\n",
       "    }\n",
       "\n",
       "    .dataframe thead th {\n",
       "        text-align: right;\n",
       "    }\n",
       "</style>\n",
       "<table border=\"1\" class=\"dataframe\">\n",
       "  <thead>\n",
       "    <tr style=\"text-align: right;\">\n",
       "      <th></th>\n",
       "      <th>Countrycode</th>\n",
       "      <th>Namespace</th>\n",
       "      <th>AirQualityNetwork</th>\n",
       "      <th>AirQualityStation</th>\n",
       "      <th>AirQualityStationEoICode</th>\n",
       "      <th>SamplingPoint</th>\n",
       "      <th>SamplingProcess</th>\n",
       "      <th>Sample</th>\n",
       "      <th>AirPollutant</th>\n",
       "      <th>AirPollutantCode</th>\n",
       "      <th>AveragingTime</th>\n",
       "      <th>Concentration</th>\n",
       "      <th>UnitOfMeasurement</th>\n",
       "      <th>DatetimeBegin</th>\n",
       "      <th>DatetimeEnd</th>\n",
       "      <th>Validity</th>\n",
       "      <th>Verification</th>\n",
       "    </tr>\n",
       "  </thead>\n",
       "  <tbody>\n",
       "    <tr>\n",
       "      <th>0</th>\n",
       "      <td>IT</td>\n",
       "      <td>IT.ISPRA.AQD</td>\n",
       "      <td>NET.IT224A</td>\n",
       "      <td>STA.IT1523A</td>\n",
       "      <td>IT1523A</td>\n",
       "      <td>SPO.IT1523A_5_BETA_2005-04-20_00:00:00</td>\n",
       "      <td>SPP.IT1523A_5_BETA_2005-04-20_00:00:00</td>\n",
       "      <td>SAM.IT1523A_5_BETA_2005-04-20_00:00:00</td>\n",
       "      <td>PM10</td>\n",
       "      <td>http://dd.eionet.europa.eu/vocabulary/aq/pollu...</td>\n",
       "      <td>day</td>\n",
       "      <td>54.000000</td>\n",
       "      <td>µg/m3</td>\n",
       "      <td>2020-01-11 00:00:00 +01:00</td>\n",
       "      <td>2020-01-12 00:00:00 +01:00</td>\n",
       "      <td>1</td>\n",
       "      <td>3</td>\n",
       "    </tr>\n",
       "    <tr>\n",
       "      <th>1</th>\n",
       "      <td>IT</td>\n",
       "      <td>IT.ISPRA.AQD</td>\n",
       "      <td>NET.IT224A</td>\n",
       "      <td>STA.IT1523A</td>\n",
       "      <td>IT1523A</td>\n",
       "      <td>SPO.IT1523A_5_BETA_2005-04-20_00:00:00</td>\n",
       "      <td>SPP.IT1523A_5_BETA_2005-04-20_00:00:00</td>\n",
       "      <td>SAM.IT1523A_5_BETA_2005-04-20_00:00:00</td>\n",
       "      <td>PM10</td>\n",
       "      <td>http://dd.eionet.europa.eu/vocabulary/aq/pollu...</td>\n",
       "      <td>day</td>\n",
       "      <td>54.000000</td>\n",
       "      <td>µg/m3</td>\n",
       "      <td>2020-01-12 00:00:00 +01:00</td>\n",
       "      <td>2020-01-13 00:00:00 +01:00</td>\n",
       "      <td>1</td>\n",
       "      <td>3</td>\n",
       "    </tr>\n",
       "    <tr>\n",
       "      <th>2</th>\n",
       "      <td>IT</td>\n",
       "      <td>IT.ISPRA.AQD</td>\n",
       "      <td>NET.IT224A</td>\n",
       "      <td>STA.IT1523A</td>\n",
       "      <td>IT1523A</td>\n",
       "      <td>SPO.IT1523A_5_BETA_2005-04-20_00:00:00</td>\n",
       "      <td>SPP.IT1523A_5_BETA_2005-04-20_00:00:00</td>\n",
       "      <td>SAM.IT1523A_5_BETA_2005-04-20_00:00:00</td>\n",
       "      <td>PM10</td>\n",
       "      <td>http://dd.eionet.europa.eu/vocabulary/aq/pollu...</td>\n",
       "      <td>day</td>\n",
       "      <td>80.000000</td>\n",
       "      <td>µg/m3</td>\n",
       "      <td>2020-01-13 00:00:00 +01:00</td>\n",
       "      <td>2020-01-14 00:00:00 +01:00</td>\n",
       "      <td>1</td>\n",
       "      <td>3</td>\n",
       "    </tr>\n",
       "    <tr>\n",
       "      <th>3</th>\n",
       "      <td>IT</td>\n",
       "      <td>IT.ISPRA.AQD</td>\n",
       "      <td>NET.IT224A</td>\n",
       "      <td>STA.IT1523A</td>\n",
       "      <td>IT1523A</td>\n",
       "      <td>SPO.IT1523A_5_BETA_2005-04-20_00:00:00</td>\n",
       "      <td>SPP.IT1523A_5_BETA_2005-04-20_00:00:00</td>\n",
       "      <td>SAM.IT1523A_5_BETA_2005-04-20_00:00:00</td>\n",
       "      <td>PM10</td>\n",
       "      <td>http://dd.eionet.europa.eu/vocabulary/aq/pollu...</td>\n",
       "      <td>day</td>\n",
       "      <td>93.000000</td>\n",
       "      <td>µg/m3</td>\n",
       "      <td>2020-01-14 00:00:00 +01:00</td>\n",
       "      <td>2020-01-15 00:00:00 +01:00</td>\n",
       "      <td>1</td>\n",
       "      <td>3</td>\n",
       "    </tr>\n",
       "    <tr>\n",
       "      <th>4</th>\n",
       "      <td>IT</td>\n",
       "      <td>IT.ISPRA.AQD</td>\n",
       "      <td>NET.IT224A</td>\n",
       "      <td>STA.IT1523A</td>\n",
       "      <td>IT1523A</td>\n",
       "      <td>SPO.IT1523A_5_BETA_2005-04-20_00:00:00</td>\n",
       "      <td>SPP.IT1523A_5_BETA_2005-04-20_00:00:00</td>\n",
       "      <td>SAM.IT1523A_5_BETA_2005-04-20_00:00:00</td>\n",
       "      <td>PM10</td>\n",
       "      <td>http://dd.eionet.europa.eu/vocabulary/aq/pollu...</td>\n",
       "      <td>day</td>\n",
       "      <td>89.000000</td>\n",
       "      <td>µg/m3</td>\n",
       "      <td>2020-01-15 00:00:00 +01:00</td>\n",
       "      <td>2020-01-16 00:00:00 +01:00</td>\n",
       "      <td>1</td>\n",
       "      <td>3</td>\n",
       "    </tr>\n",
       "    <tr>\n",
       "      <th>...</th>\n",
       "      <td>...</td>\n",
       "      <td>...</td>\n",
       "      <td>...</td>\n",
       "      <td>...</td>\n",
       "      <td>...</td>\n",
       "      <td>...</td>\n",
       "      <td>...</td>\n",
       "      <td>...</td>\n",
       "      <td>...</td>\n",
       "      <td>...</td>\n",
       "      <td>...</td>\n",
       "      <td>...</td>\n",
       "      <td>...</td>\n",
       "      <td>...</td>\n",
       "      <td>...</td>\n",
       "      <td>...</td>\n",
       "      <td>...</td>\n",
       "    </tr>\n",
       "    <tr>\n",
       "      <th>157635</th>\n",
       "      <td>IT</td>\n",
       "      <td>IT.ISPRA.AQD</td>\n",
       "      <td>NET.IT100A</td>\n",
       "      <td>STA.IT2079A</td>\n",
       "      <td>IT2079A</td>\n",
       "      <td>SPO.IT2079A_5_BETA_2009-07-23_00:00:00</td>\n",
       "      <td>SPP.IT2079A_5_BETA_2009-07-23_00:00:00</td>\n",
       "      <td>SAM.IT2079A_5_BETA_2009-07-23_00:00:00</td>\n",
       "      <td>PM10</td>\n",
       "      <td>http://dd.eionet.europa.eu/vocabulary/aq/pollu...</td>\n",
       "      <td>day</td>\n",
       "      <td>11.795832</td>\n",
       "      <td>µg/m3</td>\n",
       "      <td>2020-12-26 00:00:00 +01:00</td>\n",
       "      <td>2020-12-27 00:00:00 +01:00</td>\n",
       "      <td>1</td>\n",
       "      <td>3</td>\n",
       "    </tr>\n",
       "    <tr>\n",
       "      <th>157636</th>\n",
       "      <td>IT</td>\n",
       "      <td>IT.ISPRA.AQD</td>\n",
       "      <td>NET.IT100A</td>\n",
       "      <td>STA.IT2079A</td>\n",
       "      <td>IT2079A</td>\n",
       "      <td>SPO.IT2079A_5_BETA_2009-07-23_00:00:00</td>\n",
       "      <td>SPP.IT2079A_5_BETA_2009-07-23_00:00:00</td>\n",
       "      <td>SAM.IT2079A_5_BETA_2009-07-23_00:00:00</td>\n",
       "      <td>PM10</td>\n",
       "      <td>http://dd.eionet.europa.eu/vocabulary/aq/pollu...</td>\n",
       "      <td>day</td>\n",
       "      <td>40.525830</td>\n",
       "      <td>µg/m3</td>\n",
       "      <td>2020-12-27 00:00:00 +01:00</td>\n",
       "      <td>2020-12-28 00:00:00 +01:00</td>\n",
       "      <td>1</td>\n",
       "      <td>3</td>\n",
       "    </tr>\n",
       "    <tr>\n",
       "      <th>157637</th>\n",
       "      <td>IT</td>\n",
       "      <td>IT.ISPRA.AQD</td>\n",
       "      <td>NET.IT100A</td>\n",
       "      <td>STA.IT2079A</td>\n",
       "      <td>IT2079A</td>\n",
       "      <td>SPO.IT2079A_5_BETA_2009-07-23_00:00:00</td>\n",
       "      <td>SPP.IT2079A_5_BETA_2009-07-23_00:00:00</td>\n",
       "      <td>SAM.IT2079A_5_BETA_2009-07-23_00:00:00</td>\n",
       "      <td>PM10</td>\n",
       "      <td>http://dd.eionet.europa.eu/vocabulary/aq/pollu...</td>\n",
       "      <td>day</td>\n",
       "      <td>20.899164</td>\n",
       "      <td>µg/m3</td>\n",
       "      <td>2020-12-28 00:00:00 +01:00</td>\n",
       "      <td>2020-12-29 00:00:00 +01:00</td>\n",
       "      <td>1</td>\n",
       "      <td>3</td>\n",
       "    </tr>\n",
       "    <tr>\n",
       "      <th>157638</th>\n",
       "      <td>IT</td>\n",
       "      <td>IT.ISPRA.AQD</td>\n",
       "      <td>NET.IT100A</td>\n",
       "      <td>STA.IT2079A</td>\n",
       "      <td>IT2079A</td>\n",
       "      <td>SPO.IT2079A_5_BETA_2009-07-23_00:00:00</td>\n",
       "      <td>SPP.IT2079A_5_BETA_2009-07-23_00:00:00</td>\n",
       "      <td>SAM.IT2079A_5_BETA_2009-07-23_00:00:00</td>\n",
       "      <td>PM10</td>\n",
       "      <td>http://dd.eionet.europa.eu/vocabulary/aq/pollu...</td>\n",
       "      <td>day</td>\n",
       "      <td>40.594994</td>\n",
       "      <td>µg/m3</td>\n",
       "      <td>2020-12-29 00:00:00 +01:00</td>\n",
       "      <td>2020-12-30 00:00:00 +01:00</td>\n",
       "      <td>1</td>\n",
       "      <td>3</td>\n",
       "    </tr>\n",
       "    <tr>\n",
       "      <th>157639</th>\n",
       "      <td>IT</td>\n",
       "      <td>IT.ISPRA.AQD</td>\n",
       "      <td>NET.IT100A</td>\n",
       "      <td>STA.IT2079A</td>\n",
       "      <td>IT2079A</td>\n",
       "      <td>SPO.IT2079A_5_BETA_2009-07-23_00:00:00</td>\n",
       "      <td>SPP.IT2079A_5_BETA_2009-07-23_00:00:00</td>\n",
       "      <td>SAM.IT2079A_5_BETA_2009-07-23_00:00:00</td>\n",
       "      <td>PM10</td>\n",
       "      <td>http://dd.eionet.europa.eu/vocabulary/aq/pollu...</td>\n",
       "      <td>day</td>\n",
       "      <td>51.243996</td>\n",
       "      <td>µg/m3</td>\n",
       "      <td>2020-12-30 00:00:00 +01:00</td>\n",
       "      <td>2020-12-31 00:00:00 +01:00</td>\n",
       "      <td>1</td>\n",
       "      <td>3</td>\n",
       "    </tr>\n",
       "  </tbody>\n",
       "</table>\n",
       "<p>157640 rows × 17 columns</p>\n",
       "</div>"
      ],
      "text/plain": [
       "       Countrycode     Namespace AirQualityNetwork AirQualityStation  \\\n",
       "0               IT  IT.ISPRA.AQD        NET.IT224A       STA.IT1523A   \n",
       "1               IT  IT.ISPRA.AQD        NET.IT224A       STA.IT1523A   \n",
       "2               IT  IT.ISPRA.AQD        NET.IT224A       STA.IT1523A   \n",
       "3               IT  IT.ISPRA.AQD        NET.IT224A       STA.IT1523A   \n",
       "4               IT  IT.ISPRA.AQD        NET.IT224A       STA.IT1523A   \n",
       "...            ...           ...               ...               ...   \n",
       "157635          IT  IT.ISPRA.AQD        NET.IT100A       STA.IT2079A   \n",
       "157636          IT  IT.ISPRA.AQD        NET.IT100A       STA.IT2079A   \n",
       "157637          IT  IT.ISPRA.AQD        NET.IT100A       STA.IT2079A   \n",
       "157638          IT  IT.ISPRA.AQD        NET.IT100A       STA.IT2079A   \n",
       "157639          IT  IT.ISPRA.AQD        NET.IT100A       STA.IT2079A   \n",
       "\n",
       "       AirQualityStationEoICode                           SamplingPoint  \\\n",
       "0                       IT1523A  SPO.IT1523A_5_BETA_2005-04-20_00:00:00   \n",
       "1                       IT1523A  SPO.IT1523A_5_BETA_2005-04-20_00:00:00   \n",
       "2                       IT1523A  SPO.IT1523A_5_BETA_2005-04-20_00:00:00   \n",
       "3                       IT1523A  SPO.IT1523A_5_BETA_2005-04-20_00:00:00   \n",
       "4                       IT1523A  SPO.IT1523A_5_BETA_2005-04-20_00:00:00   \n",
       "...                         ...                                     ...   \n",
       "157635                  IT2079A  SPO.IT2079A_5_BETA_2009-07-23_00:00:00   \n",
       "157636                  IT2079A  SPO.IT2079A_5_BETA_2009-07-23_00:00:00   \n",
       "157637                  IT2079A  SPO.IT2079A_5_BETA_2009-07-23_00:00:00   \n",
       "157638                  IT2079A  SPO.IT2079A_5_BETA_2009-07-23_00:00:00   \n",
       "157639                  IT2079A  SPO.IT2079A_5_BETA_2009-07-23_00:00:00   \n",
       "\n",
       "                               SamplingProcess  \\\n",
       "0       SPP.IT1523A_5_BETA_2005-04-20_00:00:00   \n",
       "1       SPP.IT1523A_5_BETA_2005-04-20_00:00:00   \n",
       "2       SPP.IT1523A_5_BETA_2005-04-20_00:00:00   \n",
       "3       SPP.IT1523A_5_BETA_2005-04-20_00:00:00   \n",
       "4       SPP.IT1523A_5_BETA_2005-04-20_00:00:00   \n",
       "...                                        ...   \n",
       "157635  SPP.IT2079A_5_BETA_2009-07-23_00:00:00   \n",
       "157636  SPP.IT2079A_5_BETA_2009-07-23_00:00:00   \n",
       "157637  SPP.IT2079A_5_BETA_2009-07-23_00:00:00   \n",
       "157638  SPP.IT2079A_5_BETA_2009-07-23_00:00:00   \n",
       "157639  SPP.IT2079A_5_BETA_2009-07-23_00:00:00   \n",
       "\n",
       "                                        Sample AirPollutant  \\\n",
       "0       SAM.IT1523A_5_BETA_2005-04-20_00:00:00         PM10   \n",
       "1       SAM.IT1523A_5_BETA_2005-04-20_00:00:00         PM10   \n",
       "2       SAM.IT1523A_5_BETA_2005-04-20_00:00:00         PM10   \n",
       "3       SAM.IT1523A_5_BETA_2005-04-20_00:00:00         PM10   \n",
       "4       SAM.IT1523A_5_BETA_2005-04-20_00:00:00         PM10   \n",
       "...                                        ...          ...   \n",
       "157635  SAM.IT2079A_5_BETA_2009-07-23_00:00:00         PM10   \n",
       "157636  SAM.IT2079A_5_BETA_2009-07-23_00:00:00         PM10   \n",
       "157637  SAM.IT2079A_5_BETA_2009-07-23_00:00:00         PM10   \n",
       "157638  SAM.IT2079A_5_BETA_2009-07-23_00:00:00         PM10   \n",
       "157639  SAM.IT2079A_5_BETA_2009-07-23_00:00:00         PM10   \n",
       "\n",
       "                                         AirPollutantCode AveragingTime  \\\n",
       "0       http://dd.eionet.europa.eu/vocabulary/aq/pollu...           day   \n",
       "1       http://dd.eionet.europa.eu/vocabulary/aq/pollu...           day   \n",
       "2       http://dd.eionet.europa.eu/vocabulary/aq/pollu...           day   \n",
       "3       http://dd.eionet.europa.eu/vocabulary/aq/pollu...           day   \n",
       "4       http://dd.eionet.europa.eu/vocabulary/aq/pollu...           day   \n",
       "...                                                   ...           ...   \n",
       "157635  http://dd.eionet.europa.eu/vocabulary/aq/pollu...           day   \n",
       "157636  http://dd.eionet.europa.eu/vocabulary/aq/pollu...           day   \n",
       "157637  http://dd.eionet.europa.eu/vocabulary/aq/pollu...           day   \n",
       "157638  http://dd.eionet.europa.eu/vocabulary/aq/pollu...           day   \n",
       "157639  http://dd.eionet.europa.eu/vocabulary/aq/pollu...           day   \n",
       "\n",
       "        Concentration UnitOfMeasurement               DatetimeBegin  \\\n",
       "0           54.000000             µg/m3  2020-01-11 00:00:00 +01:00   \n",
       "1           54.000000             µg/m3  2020-01-12 00:00:00 +01:00   \n",
       "2           80.000000             µg/m3  2020-01-13 00:00:00 +01:00   \n",
       "3           93.000000             µg/m3  2020-01-14 00:00:00 +01:00   \n",
       "4           89.000000             µg/m3  2020-01-15 00:00:00 +01:00   \n",
       "...               ...               ...                         ...   \n",
       "157635      11.795832             µg/m3  2020-12-26 00:00:00 +01:00   \n",
       "157636      40.525830             µg/m3  2020-12-27 00:00:00 +01:00   \n",
       "157637      20.899164             µg/m3  2020-12-28 00:00:00 +01:00   \n",
       "157638      40.594994             µg/m3  2020-12-29 00:00:00 +01:00   \n",
       "157639      51.243996             µg/m3  2020-12-30 00:00:00 +01:00   \n",
       "\n",
       "                       DatetimeEnd  Validity  Verification  \n",
       "0       2020-01-12 00:00:00 +01:00         1             3  \n",
       "1       2020-01-13 00:00:00 +01:00         1             3  \n",
       "2       2020-01-14 00:00:00 +01:00         1             3  \n",
       "3       2020-01-15 00:00:00 +01:00         1             3  \n",
       "4       2020-01-16 00:00:00 +01:00         1             3  \n",
       "...                            ...       ...           ...  \n",
       "157635  2020-12-27 00:00:00 +01:00         1             3  \n",
       "157636  2020-12-28 00:00:00 +01:00         1             3  \n",
       "157637  2020-12-29 00:00:00 +01:00         1             3  \n",
       "157638  2020-12-30 00:00:00 +01:00         1             3  \n",
       "157639  2020-12-31 00:00:00 +01:00         1             3  \n",
       "\n",
       "[157640 rows x 17 columns]"
      ]
     },
     "execution_count": 3,
     "metadata": {},
     "output_type": "execute_result"
    }
   ],
   "source": [
    "# Load the datasets\n",
    "source_path = \"C:\\\\Datasets\\\\EEA\"\n",
    "countries_cities_dict = {\"IT\":\"all\"}\n",
    "pollutants = [\"PM10\"]\n",
    "years = [2020]\n",
    "df = eea.load_datasets(source_path,countries_cities_dict,pollutants,years)\n",
    "df.info()\n",
    "df"
   ]
  },
  {
   "cell_type": "code",
   "execution_count": null,
   "metadata": {},
   "outputs": [],
   "source": []
  },
  {
   "cell_type": "markdown",
   "metadata": {},
   "source": [
    "In addition, it will be used the [timeSeries-processing](https://github.com/EnricoPittini/timeSeries-processing) library in order to process the time series datasets."
   ]
  },
  {
   "cell_type": "code",
   "execution_count": 5,
   "metadata": {},
   "outputs": [],
   "source": [
    "import timeSeries_processing as tsp"
   ]
  },
  {
   "cell_type": "code",
   "execution_count": null,
   "metadata": {},
   "outputs": [],
   "source": []
  },
  {
   "cell_type": "code",
   "execution_count": null,
   "metadata": {},
   "outputs": [],
   "source": []
  },
  {
   "cell_type": "code",
   "execution_count": null,
   "metadata": {},
   "outputs": [],
   "source": []
  },
  {
   "cell_type": "markdown",
   "metadata": {},
   "source": [
    "# UTILITIES"
   ]
  },
  {
   "cell_type": "markdown",
   "metadata": {},
   "source": [
    "### PolynomialRegression"
   ]
  },
  {
   "cell_type": "markdown",
   "metadata": {},
   "source": [
    "It's a simple class, compliant with the [sklearn estimators interface](https://scikit-learn.org/stable/developers/develop.html), which implements the polynomial regression."
   ]
  },
  {
   "cell_type": "code",
   "execution_count": 6,
   "metadata": {},
   "outputs": [],
   "source": [
    "model = ms.PolynomialRegression(degree=3)"
   ]
  },
  {
   "cell_type": "code",
   "execution_count": null,
   "metadata": {},
   "outputs": [],
   "source": []
  },
  {
   "cell_type": "markdown",
   "metadata": {},
   "source": [
    "### compute_train_val_test"
   ]
  },
  {
   "cell_type": "code",
   "execution_count": 7,
   "metadata": {},
   "outputs": [
    {
     "name": "stderr",
     "output_type": "stream",
     "text": [
      "C:\\Users\\Enrico\\Desktop\\TirocinioTesi\\CodiceGithub\\EEA_datasets_handler.py:806: UserWarning: Missing days: ['2020-01-31', '2020-02-01', '2020-02-02', '2020-02-03', '2020-02-04', '2020-02-05', '2020-02-06', '2020-02-07', '2020-02-08', '2020-02-10', '2020-02-11']\n",
      "  warnings.warn(\"Missing days: \"+str(list(missing_days.strftime('%Y-%m-%d'))))\n"
     ]
    }
   ],
   "source": [
    "df_mean,df_min,df_max = eea.preprocessing(df, fill=True, fill_n_days=10 ,fill_aggr=\"mean\")"
   ]
  },
  {
   "cell_type": "code",
   "execution_count": 10,
   "metadata": {},
   "outputs": [],
   "source": [
    "df_mean_supp, X, y = tsp.add_k_previous_days(df_mean, col_name=\"mean\", k=1, y_col=\"mean\", scale_y=True)"
   ]
  },
  {
   "cell_type": "code",
   "execution_count": 12,
   "metadata": {},
   "outputs": [
    {
     "data": {
      "text/plain": [
       "(0.010590308174761493, 0.011154041214801094, 0.011147349084587836)"
      ]
     },
     "execution_count": 12,
     "metadata": {},
     "output_type": "execute_result"
    }
   ],
   "source": [
    "train_score, val_score, test_score = ms.compute_train_val_test(X, y, model)\n",
    "train_score, val_score, test_score"
   ]
  },
  {
   "cell_type": "code",
   "execution_count": null,
   "metadata": {},
   "outputs": [],
   "source": [
    "# Full signature\n",
    "train_score, val_score, test_score = ms.compute_train_val_test(X, y, model, scale=False, test_size=0.2, time_series=False,\n",
    "                                                               random_state=123, n_folds=5, regr=True)"
   ]
  },
  {
   "cell_type": "code",
   "execution_count": null,
   "metadata": {},
   "outputs": [],
   "source": []
  },
  {
   "cell_type": "markdown",
   "metadata": {},
   "source": [
    "### compute_bias_variance_error"
   ]
  },
  {
   "cell_type": "code",
   "execution_count": 15,
   "metadata": {},
   "outputs": [
    {
     "data": {
      "text/plain": [
       "(0.010697516686507456, 0.0002482539041854526, 0.01094577059069291)"
      ]
     },
     "execution_count": 15,
     "metadata": {},
     "output_type": "execute_result"
    }
   ],
   "source": [
    "bias2, variance, error = ms.compute_bias_variance_error(X, y, model)\n",
    "bias2, variance, error"
   ]
  },
  {
   "cell_type": "code",
   "execution_count": null,
   "metadata": {},
   "outputs": [],
   "source": [
    "# Full signature\n",
    "bias2, variance, error = ms.compute_bias_variance_error(X, y, model, scale=False, N_TESTS = 20, sample_size=0.67)"
   ]
  },
  {
   "cell_type": "code",
   "execution_count": null,
   "metadata": {},
   "outputs": [],
   "source": []
  },
  {
   "cell_type": "markdown",
   "metadata": {},
   "source": [
    "### plot_predictions"
   ]
  },
  {
   "cell_type": "code",
   "execution_count": 20,
   "metadata": {},
   "outputs": [
    {
     "data": {
      "text/plain": [
       "<AxesSubplot:title={'center':'Actual vs Predicted values'}, xlabel='Index'>"
      ]
     },
     "execution_count": 20,
     "metadata": {},
     "output_type": "execute_result"
    },
    {
     "data": {
      "image/png": "[encoded data removed]",
      "text/plain": [
       "<Figure size 432x432 with 1 Axes>"
      ]
     },
     "metadata": {
      "needs_background": "light"
     },
     "output_type": "display_data"
    }
   ],
   "source": [
    "ms.plot_predictions(X, y, model)"
   ]
  },
  {
   "cell_type": "code",
   "execution_count": 18,
   "metadata": {},
   "outputs": [
    {
     "data": {
      "text/plain": [
       "<AxesSubplot:title={'center':'Actual vs Predicted values'}, xlabel='Actual values', ylabel='Predicted values'>"
      ]
     },
     "execution_count": 18,
     "metadata": {},
     "output_type": "execute_result"
    },
    {
     "data": {
      "image/png": "[encoded data removed]",
      "text/plain": [
       "<Figure size 432x432 with 1 Axes>"
      ]
     },
     "metadata": {
      "needs_background": "light"
     },
     "output_type": "display_data"
    }
   ],
   "source": [
    "ms.plot_predictions(X, y, model, plot_type=1)"
   ]
  },
  {
   "cell_type": "code",
   "execution_count": null,
   "metadata": {},
   "outputs": [],
   "source": [
    "# Full signature\n",
    "ms.plot_predictions(X, y, model, scale=False, test_size=0.2, plot_type=0, xvalues=None, xlabel=\"Index\",\n",
    "                 title=\"Actual vs Predicted values\", figsize=(6,6))"
   ]
  },
  {
   "cell_type": "code",
   "execution_count": null,
   "metadata": {},
   "outputs": [],
   "source": []
  },
  {
   "cell_type": "code",
   "execution_count": null,
   "metadata": {},
   "outputs": [],
   "source": []
  },
  {
   "cell_type": "code",
   "execution_count": null,
   "metadata": {},
   "outputs": [],
   "source": []
  },
  {
   "cell_type": "markdown",
   "metadata": {},
   "source": [
    "# FUNCTIONS THAT PERFORM THE MODEL SELECTION WITH RESPECT TO A SINGLE DATASET"
   ]
  },
  {
   "cell_type": "markdown",
   "metadata": {},
   "source": [
    "Create the single dataset."
   ]
  },
  {
   "cell_type": "code",
   "execution_count": 3,
   "metadata": {},
   "outputs": [
    {
     "name": "stderr",
     "output_type": "stream",
     "text": [
      "C:\\Users\\Enrico\\Desktop\\TirocinioTesi\\CodiceGithub\\EEA_datasets_handler.py:809: UserWarning: Missing days: ['2020-01-31', '2020-02-01', '2020-02-02', '2020-02-03', '2020-02-04', '2020-02-05', '2020-02-06', '2020-02-07', '2020-02-08', '2020-02-10', '2020-02-11']\n",
      "  warnings.warn(\"Missing days: \"+str(list(missing_days.strftime('%Y-%m-%d'))))\n"
     ]
    }
   ],
   "source": [
    "df_mean,df_min,df_max = eea.preprocessing(df, fill=True, fill_n_days=10 ,fill_aggr=\"mean\")"
   ]
  },
  {
   "cell_type": "code",
   "execution_count": 4,
   "metadata": {},
   "outputs": [],
   "source": [
    "df_mean_supp, X, y = tsp.add_k_previous_days(df_mean, col_name=\"mean\", k=1, y_col=\"mean\", scale_y=True)"
   ]
  },
  {
   "cell_type": "code",
   "execution_count": null,
   "metadata": {},
   "outputs": [],
   "source": []
  },
  {
   "cell_type": "markdown",
   "metadata": {},
   "source": [
    "### hyperparameter_validation"
   ]
  },
  {
   "cell_type": "markdown",
   "metadata": {},
   "source": [
    "It selects the best value for the specified hyperparameter of the specified model on the given dataset."
   ]
  },
  {
   "cell_type": "code",
   "execution_count": 53,
   "metadata": {},
   "outputs": [
    {
     "data": {
      "image/png": "[encoded data removed]",
      "text/plain": [
       "<Figure size 432x432 with 1 Axes>"
      ]
     },
     "metadata": {
      "needs_background": "light"
     },
     "output_type": "display_data"
    }
   ],
   "source": [
    "model = ms.PolynomialRegression() \n",
    "\n",
    "hyperparameter = \"degree\"\n",
    "hyperparameter_values = [1,2,3]\n",
    "\n",
    "train_val_scores, best_index, test_score, ax = ms.hyperparameter_validation(X, y, model, hyperparameter, hyperparameter_values, \n",
    "                                                                     time_series=True, plot=True, plot_train=True)"
   ]
  },
  {
   "cell_type": "code",
   "execution_count": 17,
   "metadata": {},
   "outputs": [
    {
     "name": "stdout",
     "output_type": "stream",
     "text": [
      "[[0.01907515 0.00917335]\n",
      " [0.01882686 0.00863946]\n",
      " [0.01876097 0.0093821 ]]\n"
     ]
    }
   ],
   "source": [
    "print(train_val_scores)"
   ]
  },
  {
   "cell_type": "code",
   "execution_count": 18,
   "metadata": {},
   "outputs": [
    {
     "name": "stdout",
     "output_type": "stream",
     "text": [
      "1\n"
     ]
    }
   ],
   "source": [
    "print(best_index)"
   ]
  },
  {
   "cell_type": "code",
   "execution_count": 19,
   "metadata": {
    "scrolled": true
   },
   "outputs": [
    {
     "name": "stdout",
     "output_type": "stream",
     "text": [
      "0.011503918056149346\n"
     ]
    }
   ],
   "source": [
    "print(test_score)"
   ]
  },
  {
   "cell_type": "code",
   "execution_count": null,
   "metadata": {},
   "outputs": [],
   "source": []
  },
  {
   "cell_type": "code",
   "execution_count": null,
   "metadata": {},
   "outputs": [],
   "source": [
    "# Full signature\n",
    "train_val_scores, best_index, test_score, ax = ms.hyperparameter_validation(X, y, model, hyperparameter, hyperparameter_values, \n",
    "                                                                     scale=False, test_size=0.2, time_series=False, \n",
    "                                                                     random_state=123, n_folds=5, regr=True, plot=False,\n",
    "                                                                     plot_train=False, xvalues=None, xlabel=None,\n",
    "                                                                     title=\"Hyperparameter validation\", figsize=(6,6))"
   ]
  },
  {
   "cell_type": "code",
   "execution_count": null,
   "metadata": {},
   "outputs": [],
   "source": []
  },
  {
   "cell_type": "markdown",
   "metadata": {},
   "source": [
    "### hyperparameters_validation"
   ]
  },
  {
   "cell_type": "markdown",
   "metadata": {},
   "source": [
    "It selects the best combination of values for the specified hyperparameters of the specified model on the given dataset."
   ]
  },
  {
   "cell_type": "code",
   "execution_count": 55,
   "metadata": {},
   "outputs": [],
   "source": [
    "from sklearn.tree import DecisionTreeRegressor\n",
    "\n",
    "model = DecisionTreeRegressor()\n",
    "\n",
    "param_grid = {\"max_leaf_nodes\":[2,3,4],\"max_features\":[None,\"sqrt\"]}\n",
    "\n",
    "params, train_val_scores, best_index, test_score = ms.hyperparameters_validation(X, y, model, param_grid, time_series=True)"
   ]
  },
  {
   "cell_type": "code",
   "execution_count": 56,
   "metadata": {},
   "outputs": [
    {
     "name": "stdout",
     "output_type": "stream",
     "text": [
      "[{'max_features': None, 'max_leaf_nodes': 2}, {'max_features': None, 'max_leaf_nodes': 3}, {'max_features': None, 'max_leaf_nodes': 4}, {'max_features': 'sqrt', 'max_leaf_nodes': 2}, {'max_features': 'sqrt', 'max_leaf_nodes': 3}, {'max_features': 'sqrt', 'max_leaf_nodes': 4}]\n"
     ]
    }
   ],
   "source": [
    "print(params)"
   ]
  },
  {
   "cell_type": "code",
   "execution_count": 27,
   "metadata": {},
   "outputs": [
    {
     "name": "stdout",
     "output_type": "stream",
     "text": [
      "[[0.02625313 0.02248355]\n",
      " [0.02159088 0.02162117]\n",
      " [0.01829289 0.01602048]\n",
      " [0.02625313 0.02248355]\n",
      " [0.02159088 0.02162117]\n",
      " [0.01829289 0.01602048]]\n"
     ]
    }
   ],
   "source": [
    "print(train_val_scores)"
   ]
  },
  {
   "cell_type": "code",
   "execution_count": 28,
   "metadata": {},
   "outputs": [
    {
     "name": "stdout",
     "output_type": "stream",
     "text": [
      "2\n"
     ]
    }
   ],
   "source": [
    "print(best_index)"
   ]
  },
  {
   "cell_type": "code",
   "execution_count": 29,
   "metadata": {},
   "outputs": [
    {
     "name": "stdout",
     "output_type": "stream",
     "text": [
      "0.015266789104509664\n"
     ]
    }
   ],
   "source": [
    "print(test_score)"
   ]
  },
  {
   "cell_type": "code",
   "execution_count": null,
   "metadata": {},
   "outputs": [],
   "source": []
  },
  {
   "cell_type": "code",
   "execution_count": null,
   "metadata": {},
   "outputs": [],
   "source": [
    "# Full signature\n",
    "params, train_val_scores, best_index, test_score = ms.hyperparameters_validation(X, y, model, param_grid, scale=False, \n",
    "                                                                              test_size=0.2, time_series=False, \n",
    "                                                                              random_state=123, n_folds=5, regr=True)"
   ]
  },
  {
   "cell_type": "code",
   "execution_count": null,
   "metadata": {},
   "outputs": [],
   "source": []
  },
  {
   "cell_type": "markdown",
   "metadata": {},
   "source": [
    "### models_validation"
   ]
  },
  {
   "cell_type": "markdown",
   "metadata": {},
   "source": [
    "It selects the best model on the given dataset."
   ]
  },
  {
   "cell_type": "code",
   "execution_count": 22,
   "metadata": {},
   "outputs": [
    {
     "data": {
      "image/png": "[encoded data removed]",
      "text/plain": [
       "<Figure size 432x432 with 1 Axes>"
      ]
     },
     "metadata": {
      "needs_background": "light"
     },
     "output_type": "display_data"
    }
   ],
   "source": [
    "from sklearn.neighbors import KNeighborsRegressor\n",
    "\n",
    "model_paramGrid_list = [ \n",
    "                         (\"kNN\", KNeighborsRegressor(),{\"n_neighbors\":[1,2,3],\"weights\":[\"uniform\",\"distance\"]}),\n",
    "                         (\"PR\", ms.PolynomialRegression(),{\"degree\":[1,2,3]}),\n",
    "                       ]\n",
    "\n",
    "\n",
    "models_train_val_score, models_best_params, best_index, test_score, ax = ms.models_validation(X, y, model_paramGrid_list,\n",
    "                                                                                       scale_list=[True,False], \n",
    "                                                                                       time_series=True, plot=True,\n",
    "                                                                                       plot_train=True)"
   ]
  },
  {
   "cell_type": "code",
   "execution_count": 39,
   "metadata": {},
   "outputs": [
    {
     "name": "stdout",
     "output_type": "stream",
     "text": [
      "[[0.01414521 0.01280187]\n",
      " [0.01882686 0.00863946]]\n"
     ]
    }
   ],
   "source": [
    "print(models_train_val_score)"
   ]
  },
  {
   "cell_type": "code",
   "execution_count": 40,
   "metadata": {},
   "outputs": [
    {
     "name": "stdout",
     "output_type": "stream",
     "text": [
      "[{'n_neighbors': 3, 'weights': 'uniform'}, {'degree': 2}]\n"
     ]
    }
   ],
   "source": [
    "print(models_best_params)"
   ]
  },
  {
   "cell_type": "code",
   "execution_count": 41,
   "metadata": {},
   "outputs": [
    {
     "name": "stdout",
     "output_type": "stream",
     "text": [
      "1\n"
     ]
    }
   ],
   "source": [
    "print(best_index)"
   ]
  },
  {
   "cell_type": "code",
   "execution_count": 42,
   "metadata": {},
   "outputs": [
    {
     "name": "stdout",
     "output_type": "stream",
     "text": [
      "0.011503918056149346\n"
     ]
    }
   ],
   "source": [
    "print(test_score)"
   ]
  },
  {
   "cell_type": "code",
   "execution_count": null,
   "metadata": {},
   "outputs": [],
   "source": []
  },
  {
   "cell_type": "code",
   "execution_count": null,
   "metadata": {},
   "outputs": [],
   "source": [
    "# Full signature\n",
    "models_train_val_score, models_best_params, best_index, test_score, ax =  ms.models_validation(X, y, model_paramGrid_list, \n",
    "                                                                                        scale_list=None, test_size=0.2, \n",
    "                                                                                        time_series=False, random_state=123, \n",
    "                                                                                        n_folds=5, regr=True, plot=False,\n",
    "                                                                                        plot_train=False, xvalues=None, \n",
    "                                                                                        xlabel=\"Models\",\n",
    "                                                                                        title=\"Models validation\",figsize=(6,6))"
   ]
  },
  {
   "cell_type": "code",
   "execution_count": null,
   "metadata": {},
   "outputs": [],
   "source": []
  },
  {
   "cell_type": "markdown",
   "metadata": {},
   "source": [
    "# FUNCTIONS THAT PERFORM THE MODEL SELECTION WITH RESPECT TO MULTIPLE DATASETS"
   ]
  },
  {
   "cell_type": "code",
   "execution_count": 23,
   "metadata": {},
   "outputs": [],
   "source": [
    "# First dataset\n",
    "_, X1, y1 = tsp.add_k_previous_days(df_mean, col_name=\"mean\", k=1, y_col=\"mean\", scale_y=True)"
   ]
  },
  {
   "cell_type": "code",
   "execution_count": 24,
   "metadata": {},
   "outputs": [],
   "source": [
    "# Second dataset\n",
    "_, X1, y1 = tsp.add_k_previous_days(df_mean, col_name=\"mean\", k=1, y_col=\"mean\", scale_y=True)"
   ]
  },
  {
   "cell_type": "code",
   "execution_count": 25,
   "metadata": {},
   "outputs": [],
   "source": [
    "# Third dataset\n",
    "_, X3, y3 = tsp.add_k_previous_days(df_mean, col_name=\"mean\", k=15, y_col=\"mean\", scale_y=True)"
   ]
  },
  {
   "cell_type": "code",
   "execution_count": null,
   "metadata": {},
   "outputs": [],
   "source": []
  },
  {
   "cell_type": "markdown",
   "metadata": {},
   "source": [
    "### datasets_hyperparameter_validation"
   ]
  },
  {
   "cell_type": "markdown",
   "metadata": {},
   "source": [
    "It selects the best dataset and the best value for the specified hyperparameter of the specified model (i.e. it selects the best\n",
    "couple dataset-hyperparameter value)."
   ]
  },
  {
   "cell_type": "code",
   "execution_count": 8,
   "metadata": {},
   "outputs": [
    {
     "data": {
      "image/png": "[encoded data removed]",
      "text/plain": [
       "<Figure size 432x432 with 1 Axes>"
      ]
     },
     "metadata": {
      "needs_background": "light"
     },
     "output_type": "display_data"
    }
   ],
   "source": [
    "dataset_list = [(X1,y1),(X2,y2),(X3,y3)]\n",
    "\n",
    "model = ms.PolynomialRegression()\n",
    "\n",
    "hyperparameter = \"degree\"\n",
    "hyperparameter_values = [1,2,3]\n",
    "\n",
    "(datasets_train_val_score, datasets_best_hyperparameter_value, \n",
    " best_index, test_score, axes) = ms.datasets_hyperparameter_validation(dataset_list, model, hyperparameter, \n",
    "                                                                       hyperparameter_values,\n",
    "                                                                       time_series=True, plot=True, plot_train=True,\n",
    "                                                                       xvalues=[\"D1\",\"D2\",\"D3\"])"
   ]
  },
  {
   "cell_type": "code",
   "execution_count": 58,
   "metadata": {},
   "outputs": [
    {
     "name": "stdout",
     "output_type": "stream",
     "text": [
      "[[0.01882686 0.00863946]\n",
      " [0.01713774 0.01030532]\n",
      " [0.012072   0.00963146]]\n"
     ]
    }
   ],
   "source": [
    "print(datasets_train_val_score)"
   ]
  },
  {
   "cell_type": "code",
   "execution_count": 59,
   "metadata": {},
   "outputs": [
    {
     "name": "stdout",
     "output_type": "stream",
     "text": [
      "[2, 1, 1]\n"
     ]
    }
   ],
   "source": [
    "print(datasets_best_hyperparameter_value)"
   ]
  },
  {
   "cell_type": "code",
   "execution_count": 60,
   "metadata": {},
   "outputs": [
    {
     "name": "stdout",
     "output_type": "stream",
     "text": [
      "0\n"
     ]
    }
   ],
   "source": [
    "print(best_index)"
   ]
  },
  {
   "cell_type": "code",
   "execution_count": 61,
   "metadata": {
    "scrolled": true
   },
   "outputs": [
    {
     "name": "stdout",
     "output_type": "stream",
     "text": [
      "0.011503918056149346\n"
     ]
    }
   ],
   "source": [
    "print(test_score)"
   ]
  },
  {
   "cell_type": "code",
   "execution_count": null,
   "metadata": {},
   "outputs": [],
   "source": []
  },
  {
   "cell_type": "code",
   "execution_count": 9,
   "metadata": {
    "scrolled": true
   },
   "outputs": [
    {
     "data": {
      "image/png": "[encoded data removed]",
      "text/plain": [
       "<Figure size 432x432 with 1 Axes>"
      ]
     },
     "metadata": {
      "needs_background": "light"
     },
     "output_type": "display_data"
    },
    {
     "data": {
      "image/png": "[encoded data removed]",
      "text/plain": [
       "<Figure size 432x432 with 1 Axes>"
      ]
     },
     "metadata": {
      "needs_background": "light"
     },
     "output_type": "display_data"
    },
    {
     "data": {
      "image/png": "[encoded data removed]",
      "text/plain": [
       "<Figure size 432x432 with 1 Axes>"
      ]
     },
     "metadata": {
      "needs_background": "light"
     },
     "output_type": "display_data"
    },
    {
     "data": {
      "image/png": "[encoded data removed]",
      "text/plain": [
       "<Figure size 432x432 with 1 Axes>"
      ]
     },
     "metadata": {
      "needs_background": "light"
     },
     "output_type": "display_data"
    }
   ],
   "source": [
    "# verbose = True\n",
    "\n",
    "dataset_list = [(X1,y1),(X2,y2),(X3,y3)]\n",
    "\n",
    "model = ms.PolynomialRegression()\n",
    "\n",
    "hyperparameter = \"degree\"\n",
    "hyperparameter_values = [1,2,3]\n",
    "\n",
    "(datasets_train_val_score, datasets_best_hyperparameter_value, \n",
    " best_index, test_score, axes) = ms.datasets_hyperparameter_validation(dataset_list, model, hyperparameter, \n",
    "                                                                       hyperparameter_values,\n",
    "                                                                       time_series=True, plot=True, plot_train=True,\n",
    "                                                                       xvalues=[\"D1\",\"D2\",\"D3\"], verbose=True)"
   ]
  },
  {
   "cell_type": "code",
   "execution_count": null,
   "metadata": {},
   "outputs": [],
   "source": []
  },
  {
   "cell_type": "code",
   "execution_count": null,
   "metadata": {},
   "outputs": [],
   "source": [
    "# Full signature\n",
    "(datasets_train_val_score, datasets_best_hyperparameter_value, \n",
    " best_index, test_score, axes) = ms.datasets_hyperparameter_validation(dataset_list, model, hyperparameter,\n",
    "                                                                       hyperparameter_values, scale=False, test_size=0.2, \n",
    "                                                                       time_series=False, random_state=123, n_folds=5, \n",
    "                                                                       regr=True, plot=False, plot_train=False, xvalues=None, \n",
    "                                                                       xlabel=\"Datasets\", title=\"Datasets validation\", \n",
    "                                                                       figsize=(6,6) ,verbose=False, figsize_verbose=(6,6))"
   ]
  },
  {
   "cell_type": "code",
   "execution_count": null,
   "metadata": {},
   "outputs": [],
   "source": []
  },
  {
   "cell_type": "markdown",
   "metadata": {},
   "source": [
    "### datasets_hyperparameters_validation"
   ]
  },
  {
   "cell_type": "markdown",
   "metadata": {},
   "source": [
    "It selects the best dataset and the best combination of values for the specified hyperparameters of the specified model (i.e.\n",
    "it selects the best couple dataset-combination of hyperparameters values)."
   ]
  },
  {
   "cell_type": "code",
   "execution_count": 27,
   "metadata": {},
   "outputs": [
    {
     "data": {
      "image/png": "[encoded data removed]",
      "text/plain": [
       "<Figure size 432x432 with 1 Axes>"
      ]
     },
     "metadata": {
      "needs_background": "light"
     },
     "output_type": "display_data"
    }
   ],
   "source": [
    "from sklearn.tree import DecisionTreeRegressor\n",
    "\n",
    "dataset_list = [(X1,y1),(X2,y2),(X3,y3)]\n",
    "\n",
    "model = DecisionTreeRegressor()\n",
    "\n",
    "param_grid = {\"max_leaf_nodes\":[2,3,4], \"max_features\":[None,\"sqrt\"]}\n",
    "\n",
    "(datasets_train_val_score, datasets_best_params, \n",
    " best_index, test_score, ax) = ms.datasets_hyperparameters_validation(dataset_list, model, param_grid, time_series=True,\n",
    "                                                                   plot=True, plot_train=True, xvalues=[\"D1\",\"D2\",\"D3\"])"
   ]
  },
  {
   "cell_type": "code",
   "execution_count": 28,
   "metadata": {},
   "outputs": [
    {
     "name": "stdout",
     "output_type": "stream",
     "text": [
      "[[0.01808403 0.0150039 ]\n",
      " [0.01692864 0.0151333 ]\n",
      " [0.01580857 0.0147613 ]]\n"
     ]
    }
   ],
   "source": [
    "print(datasets_train_val_score)"
   ]
  },
  {
   "cell_type": "code",
   "execution_count": 29,
   "metadata": {},
   "outputs": [
    {
     "name": "stdout",
     "output_type": "stream",
     "text": [
      "[{'max_features': None, 'max_leaf_nodes': 4}, {'max_features': None, 'max_leaf_nodes': 4}, {'max_features': None, 'max_leaf_nodes': 4}]\n"
     ]
    }
   ],
   "source": [
    "print(datasets_best_params)"
   ]
  },
  {
   "cell_type": "code",
   "execution_count": 30,
   "metadata": {},
   "outputs": [
    {
     "name": "stdout",
     "output_type": "stream",
     "text": [
      "2\n"
     ]
    }
   ],
   "source": [
    "print(best_index)"
   ]
  },
  {
   "cell_type": "code",
   "execution_count": 31,
   "metadata": {},
   "outputs": [
    {
     "name": "stdout",
     "output_type": "stream",
     "text": [
      "0.01711360531135875\n"
     ]
    }
   ],
   "source": [
    "print(test_score)"
   ]
  },
  {
   "cell_type": "code",
   "execution_count": null,
   "metadata": {},
   "outputs": [],
   "source": []
  },
  {
   "cell_type": "code",
   "execution_count": null,
   "metadata": {},
   "outputs": [],
   "source": [
    "# Full signature\n",
    "(datasets_train_val_score, datasets_best_params,\n",
    " best_index, test_score, ax) = ms.datasets_hyperparameters_validation(dataset_list, model, param_grid, scale=False, \n",
    "                                                                  test_size=0.2, time_series=False,\n",
    "                                                                  random_state=123, n_folds=5, regr=True, plot=False,\n",
    "                                                                  plot_train=False, xvalues=None, xlabel=\"Datasets\",\n",
    "                                                                  title=\"Datasets validation\",figsize=(6,6))"
   ]
  },
  {
   "cell_type": "code",
   "execution_count": null,
   "metadata": {},
   "outputs": [],
   "source": []
  },
  {
   "cell_type": "markdown",
   "metadata": {},
   "source": [
    "### datasets_models_validation"
   ]
  },
  {
   "cell_type": "markdown",
   "metadata": {},
   "source": [
    "It selects the best dataset and the best model (i.e. it selects the best couple dataset-model)."
   ]
  },
  {
   "cell_type": "markdown",
   "metadata": {},
   "source": [
    "*It's the most general function*"
   ]
  },
  {
   "cell_type": "code",
   "execution_count": 13,
   "metadata": {},
   "outputs": [
    {
     "data": {
      "image/png": "[encoded data removed]",
      "text/plain": [
       "<Figure size 432x432 with 1 Axes>"
      ]
     },
     "metadata": {
      "needs_background": "light"
     },
     "output_type": "display_data"
    }
   ],
   "source": [
    "from sklearn.neighbors import KNeighborsRegressor\n",
    "\n",
    "dataset_list = [(X1,y1),(X2,y2),(X3,y3)]\n",
    "\n",
    "model_paramGrid_list = [ \n",
    "                         (\"kNN\" ,KNeighborsRegressor(),{\"n_neighbors\":[1,2,3],\"weights\":[\"uniform\",\"distance\"]}),\n",
    "                         (\"PR\", ms.PolynomialRegression(),{\"degree\":[1,2,3]}),\n",
    "                       ]\n",
    "\n",
    "(datasets_train_val_score, datasets_best_model, \n",
    " best_index, test_score, axes) = ms.datasets_models_validation(dataset_list, model_paramGrid_list, time_series=True, plot=True,\n",
    "                                                                plot_train=True, xvalues=[\"D1\",\"D2\",\"D3\"])"
   ]
  },
  {
   "cell_type": "code",
   "execution_count": 70,
   "metadata": {},
   "outputs": [
    {
     "name": "stdout",
     "output_type": "stream",
     "text": [
      "[[0.01882686 0.00863946]\n",
      " [0.01713774 0.01030532]\n",
      " [0.012072   0.00963146]]\n"
     ]
    }
   ],
   "source": [
    "print(datasets_train_val_score)"
   ]
  },
  {
   "cell_type": "code",
   "execution_count": 71,
   "metadata": {},
   "outputs": [
    {
     "name": "stdout",
     "output_type": "stream",
     "text": [
      "[(1, 'PR', {'degree': 2}), (1, 'PR', {'degree': 1}), (1, 'PR', {'degree': 1})]\n"
     ]
    }
   ],
   "source": [
    "print(datasets_best_model)"
   ]
  },
  {
   "cell_type": "code",
   "execution_count": 72,
   "metadata": {},
   "outputs": [
    {
     "name": "stdout",
     "output_type": "stream",
     "text": [
      "0\n"
     ]
    }
   ],
   "source": [
    "print(best_index)"
   ]
  },
  {
   "cell_type": "code",
   "execution_count": 73,
   "metadata": {},
   "outputs": [
    {
     "name": "stdout",
     "output_type": "stream",
     "text": [
      "0.011503918056149346\n"
     ]
    }
   ],
   "source": [
    "print(test_score)"
   ]
  },
  {
   "cell_type": "code",
   "execution_count": null,
   "metadata": {},
   "outputs": [],
   "source": []
  },
  {
   "cell_type": "code",
   "execution_count": 14,
   "metadata": {
    "scrolled": true
   },
   "outputs": [
    {
     "data": {
      "image/png": "[encoded data removed]",
      "text/plain": [
       "<Figure size 432x432 with 1 Axes>"
      ]
     },
     "metadata": {
      "needs_background": "light"
     },
     "output_type": "display_data"
    },
    {
     "data": {
      "image/png": "[encoded data removed]",
      "text/plain": [
       "<Figure size 432x432 with 1 Axes>"
      ]
     },
     "metadata": {
      "needs_background": "light"
     },
     "output_type": "display_data"
    },
    {
     "data": {
      "image/png": "[encoded data removed]",
      "text/plain": [
       "<Figure size 432x432 with 1 Axes>"
      ]
     },
     "metadata": {
      "needs_background": "light"
     },
     "output_type": "display_data"
    },
    {
     "data": {
      "image/png": "[encoded data removed]",
      "text/plain": [
       "<Figure size 432x432 with 1 Axes>"
      ]
     },
     "metadata": {
      "needs_background": "light"
     },
     "output_type": "display_data"
    }
   ],
   "source": [
    "# verbose = True\n",
    "\n",
    "from sklearn.neighbors import KNeighborsRegressor\n",
    "\n",
    "dataset_list = [(X1,y1),(X2,y2),(X3,y3)]\n",
    "\n",
    "model_paramGrid_list = [ \n",
    "                         (\"kNN\", KNeighborsRegressor(),{\"n_neighbors\":[1,2,3],\"weights\":[\"uniform\",\"distance\"]}),\n",
    "                         (\"PR\", ms.PolynomialRegression(),{\"degree\":[1,2,3]}),\n",
    "                       ]\n",
    "\n",
    "(datasets_train_val_score, datasets_best_model, \n",
    " best_index, test_score, axes) = ms.datasets_models_validation(dataset_list, model_paramGrid_list, time_series=True, plot=True,\n",
    "                                                                plot_train=True, xvalues=[\"D1\",\"D2\",\"D3\"], verbose=True)"
   ]
  },
  {
   "cell_type": "code",
   "execution_count": null,
   "metadata": {},
   "outputs": [],
   "source": []
  },
  {
   "cell_type": "code",
   "execution_count": null,
   "metadata": {},
   "outputs": [],
   "source": [
    "# Full signature\n",
    "(datasets_train_val_score, datasets_best_model,\n",
    " best_index, test_score, axes) = ms.datasets_models_validation(dataset_list, model_paramGrid_list, scale_list=None, \n",
    "                                                               test_size=0.2, time_series=False, random_state=123, n_folds=5,\n",
    "                                                               regr=True, plot=False, plot_train=False, xvalues=None,\n",
    "                                                               xlabel=\"Datasets\", title=\"Datasets validation\", figsize=(6,6), \n",
    "                                                               verbose=False, figsize_verbose=(6,6))"
   ]
  },
  {
   "cell_type": "code",
   "execution_count": null,
   "metadata": {},
   "outputs": [],
   "source": []
  }
 ],
 "metadata": {
  "kernelspec": {
   "display_name": "Python 3 (ipykernel)",
   "language": "python",
   "name": "python3"
  },
  "language_info": {
   "codemirror_mode": {
    "name": "ipython",
    "version": 3
   },
   "file_extension": ".py",
   "mimetype": "text/x-python",
   "name": "python",
   "nbconvert_exporter": "python",
   "pygments_lexer": "ipython3",
   "version": "3.8.8"
  }
 },
 "nbformat": 4,
 "nbformat_minor": 4
}
